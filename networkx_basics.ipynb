{
  "cells": [
    {
      "cell_type": "markdown",
      "metadata": {
        "collapsed": false,
        "id": "y4g-gRK6xEh7"
      },
      "source": [
        "Hands on NetworkX from Albert-László Barabási, http://networksciencebook.com/"
      ]
    },
    {
      "cell_type": "markdown",
      "metadata": {
        "collapsed": false,
        "id": "GJ2oY2g4xEh8"
      },
      "source": [
        "# Importing required modules"
      ]
    },
    {
      "cell_type": "code",
      "execution_count": null,
      "metadata": {
        "id": "E8kyJLXWxEh9"
      },
      "outputs": [],
      "source": [
        "import numpy as np\n",
        "import networkx as nx\n",
        "import matplotlib.pyplot as plt\n",
        "import matplotlib as mpl\n",
        "%matplotlib inline"
      ]
    },
    {
      "cell_type": "code",
      "execution_count": null,
      "metadata": {
        "id": "JcK8Mhp2xEh9"
      },
      "outputs": [],
      "source": [
        "# change defaults to be less ugly (for charts)\n",
        "mpl.rc('xtick', labelsize=14, color=\"#222222\")\n",
        "mpl.rc('ytick', labelsize=14, color=\"#222222\")\n",
        "mpl.rc('font', **{'family':'sans-serif','sans-serif':['Arial']})\n",
        "mpl.rc('font', size=16)\n",
        "mpl.rc('xtick.major', size=6, width=1)\n",
        "mpl.rc('xtick.minor', size=3, width=1)\n",
        "mpl.rc('ytick.major', size=6, width=1)\n",
        "mpl.rc('ytick.minor', size=3, width=1)\n",
        "mpl.rc('axes', linewidth=1, edgecolor=\"#222222\", labelcolor=\"#222222\")\n",
        "mpl.rc('text', usetex=False, color=\"#222222\")"
      ]
    },
    {
      "cell_type": "markdown",
      "metadata": {
        "collapsed": false,
        "id": "nHBy70LVxEh9"
      },
      "source": [
        "You can see what's in a module using `dir` (I will not actually run it because it prints out a lot)"
      ]
    },
    {
      "cell_type": "code",
      "execution_count": null,
      "metadata": {
        "id": "VXWjQvUDxEh9"
      },
      "outputs": [],
      "source": [
        " dir(nx)"
      ]
    },
    {
      "cell_type": "markdown",
      "metadata": {
        "collapsed": false,
        "id": "_QeukSgLxEh-"
      },
      "source": [
        "NetworkX has a lot of stuff in it. As such, the following is a #badidea, for any module."
      ]
    },
    {
      "cell_type": "code",
      "execution_count": null,
      "metadata": {
        "collapsed": true,
        "id": "k-5tc99pxEh-"
      },
      "outputs": [],
      "source": [
        "# from networkx import *"
      ]
    },
    {
      "cell_type": "markdown",
      "metadata": {
        "collapsed": false,
        "id": "d01IxTY3xEh-"
      },
      "source": [
        "#Basic data types in NetworkX\n",
        "NetworkX provides the following classes that represent network-related data,\n",
        "as well as network analysis algorithms that operate on these objects:"
      ]
    },
    {
      "cell_type": "markdown",
      "metadata": {
        "collapsed": false,
        "id": "1IiIKANYxEh-"
      },
      "source": [
        "**Graph**       - Undirected graph with self loops"
      ]
    },
    {
      "cell_type": "markdown",
      "metadata": {
        "collapsed": false,
        "id": "8I1XX8LGxEh-"
      },
      "source": [
        "**DiGraph**      - Directed graph with self loops"
      ]
    },
    {
      "cell_type": "markdown",
      "metadata": {
        "collapsed": false,
        "id": "q5LmOPF8xEh-"
      },
      "source": [
        "**MultiGraph**   - Undirected Graph with self loops and multiple edges"
      ]
    },
    {
      "cell_type": "markdown",
      "metadata": {
        "collapsed": false,
        "id": "Z9D3yrYlxEh-"
      },
      "source": [
        "**MultiDiGraph** - Directed Graph with self loops and multiple edges"
      ]
    },
    {
      "cell_type": "markdown",
      "metadata": {
        "collapsed": false,
        "id": "wQLL6I9UxEh-"
      },
      "source": [
        "#Getting started\n",
        "Create an empty, undirected network"
      ]
    },
    {
      "cell_type": "code",
      "execution_count": null,
      "metadata": {
        "id": "1963ZpMlxEh_"
      },
      "outputs": [],
      "source": [
        "G = nx.Graph()"
      ]
    },
    {
      "cell_type": "code",
      "execution_count": null,
      "metadata": {
        "id": "BOfoRsjFxEh_"
      },
      "outputs": [],
      "source": [
        "nx.__version__"
      ]
    },
    {
      "cell_type": "markdown",
      "metadata": {
        "collapsed": false,
        "id": "SEJQmTQkxEh_"
      },
      "source": [
        "#Nodes\n",
        "Nodes can be almost anything, including numbers, strings, GPS coordinates, you name it."
      ]
    },
    {
      "cell_type": "markdown",
      "metadata": {
        "collapsed": false,
        "id": "PDpGVPgXxEh_"
      },
      "source": [
        "Nodes can be added one at a time:"
      ]
    },
    {
      "cell_type": "code",
      "execution_count": null,
      "metadata": {
        "id": "VNLO9UFXxEh_"
      },
      "outputs": [],
      "source": [
        "G.add_node(0)\n",
        "G.add_node(\"John\")\n",
        "\n",
        "# tuple object representing, say, longitude and latitude\n",
        "pos = (1.2, 3.4)\n",
        "G.add_node(pos)"
      ]
    },
    {
      "cell_type": "markdown",
      "metadata": {
        "collapsed": false,
        "id": "N-KMpGRtxEh_"
      },
      "source": [
        "...or many at once from a python container"
      ]
    },
    {
      "cell_type": "code",
      "execution_count": null,
      "metadata": {
        "id": "KeA3XLqkxEh_"
      },
      "outputs": [],
      "source": [
        "# [1,2,3] is a list containing 1, 2, and 3\n",
        "G.add_nodes_from([1, 2, 3])"
      ]
    },
    {
      "cell_type": "markdown",
      "metadata": {
        "collapsed": false,
        "id": "5675MvMJxEh_"
      },
      "source": [
        "# Node attributes\n",
        "Nodes can have arbitrary attributes associated with them, contained in a string-index dictionary"
      ]
    },
    {
      "cell_type": "markdown",
      "metadata": {
        "collapsed": false,
        "id": "R_LmhjKHxEh_"
      },
      "source": [
        "Adding attributes at the time of node creation using keyword arguments:"
      ]
    },
    {
      "cell_type": "code",
      "execution_count": null,
      "metadata": {
        "id": "MzSPQdFyxEh_"
      },
      "outputs": [],
      "source": [
        "G.add_node(\"Louis\", eye_color='blue', height=6)"
      ]
    },
    {
      "cell_type": "markdown",
      "metadata": {
        "collapsed": false,
        "id": "I9oc-SRYxEh_"
      },
      "source": [
        "You can also add attributes to an already existing node"
      ]
    },
    {
      "cell_type": "code",
      "execution_count": null,
      "metadata": {
        "id": "_P5v43m6xEiA"
      },
      "outputs": [],
      "source": [
        "G.add_node(\"Laszlo\")\n",
        "\n",
        "# add an attribute \"citations\" with value 10**6 to Laszlo\n",
        "G.nodes[\"Laszlo\"][\"citations\"] = 10**6"
      ]
    },
    {
      "cell_type": "markdown",
      "metadata": {
        "collapsed": false,
        "id": "-hRnZQXFxEiA"
      },
      "source": [
        "G.nodes[n] gives a dictionary containing all the attribute:value pairs associated with node n"
      ]
    },
    {
      "cell_type": "code",
      "execution_count": null,
      "metadata": {
        "id": "Fw_nzXNzxEiA"
      },
      "outputs": [],
      "source": [
        "print(\"Louis's eyes are \", G.nodes[\"Louis\"][\"eye_color\"], \" and he is \", G.nodes['Louis']['height'], \" feet tall.\")\n",
        "print(\"Laszlo has \", G.nodes[\"Laszlo\"][\"citations\"], \" citations.\")"
      ]
    },
    {
      "cell_type": "markdown",
      "metadata": {
        "collapsed": false,
        "id": "KcU4N-lLxEiA"
      },
      "source": [
        "#Edges\n",
        "\n",
        "An edge between node1 and node2 is represented by a tuple (node1, node2)  \n",
        "They can be added one at a time:"
      ]
    },
    {
      "cell_type": "code",
      "execution_count": null,
      "metadata": {
        "id": "Q-Gz2Z9wxEiA"
      },
      "outputs": [],
      "source": [
        "# add edge between node 0 and node 1\n",
        "G.add_edge(0, 1)"
      ]
    },
    {
      "cell_type": "markdown",
      "metadata": {
        "collapsed": false,
        "id": "qoO5ERvrxEiA"
      },
      "source": [
        "Or many at once from a container"
      ]
    },
    {
      "cell_type": "code",
      "execution_count": null,
      "metadata": {
        "id": "wLY7y86VxEiA"
      },
      "outputs": [],
      "source": [
        "edge_list = [ (2, 1), (\"Louis\", \"Laszlo\"), (3, 4) ]\n",
        "G.add_edges_from(edge_list)"
      ]
    },
    {
      "cell_type": "markdown",
      "metadata": {
        "collapsed": false,
        "id": "qsWJghRaxEiA"
      },
      "source": [
        "**Note:** Nodes will be automatically created if they don't already exist."
      ]
    },
    {
      "cell_type": "markdown",
      "metadata": {
        "collapsed": false,
        "id": "DwazC5iAxEiA"
      },
      "source": [
        "# Edge attributes\n",
        "Like nodes, edges can also have arbitrary attributes. An important and special one (for many algorithms) is \"weight\"  \n",
        "\n",
        "The syntax for adding/accessing edge attributes is the similar to that for nodes:"
      ]
    },
    {
      "cell_type": "code",
      "execution_count": null,
      "metadata": {
        "id": "TnqVSFzyxEiA"
      },
      "outputs": [],
      "source": [
        "G.add_edge(\"Louis\", \"Sebastian\", weight=10)\n",
        "\n",
        "G.add_edge(\"Hopkinton\", \"Boston\")\n",
        "G.edges[\"Hopkinton\", \"Boston\"]['distance'] = 26.2"
      ]
    },
    {
      "cell_type": "markdown",
      "metadata": {
        "collapsed": false,
        "id": "WH1iPsJwxEiB"
      },
      "source": [
        "`G.edges[node1, node2]` is a dictionary containing all attribute:value pairs associated with the edge from node1 to node2"
      ]
    },
    {
      "cell_type": "markdown",
      "metadata": {
        "collapsed": false,
        "id": "JszxmIoXxEiB"
      },
      "source": [
        "# Basic operations"
      ]
    },
    {
      "cell_type": "markdown",
      "metadata": {
        "collapsed": false,
        "id": "TIFMAxZCxEiE"
      },
      "source": [
        "### Size of the network"
      ]
    },
    {
      "cell_type": "code",
      "execution_count": null,
      "metadata": {
        "id": "KTm5YCaTxEiE"
      },
      "outputs": [],
      "source": [
        "# number of nodes\n",
        "print(G.number_of_nodes())\n",
        "\n",
        "# more pythonic way\n",
        "print(len(G))\n",
        "\n",
        "# number of edges\n",
        "print(G.number_of_edges())\n",
        "\n",
        "# better\n",
        "print(G.size())\n",
        "\n",
        "# how to do string formatting\n",
        "print(\"G has {0} nodes and {1} edges.\".format(len(G), G.size()))"
      ]
    },
    {
      "cell_type": "markdown",
      "metadata": {
        "collapsed": false,
        "id": "QxuGVPUdxEiF"
      },
      "source": [
        "###Testing to see whether nodes or edges exist"
      ]
    },
    {
      "cell_type": "code",
      "execution_count": null,
      "metadata": {
        "id": "q43ZV3HcxEiF"
      },
      "outputs": [],
      "source": [
        "G.has_node(\"Louis\")"
      ]
    },
    {
      "cell_type": "markdown",
      "metadata": {
        "collapsed": false,
        "id": "AYwbITTnxEiF"
      },
      "source": [
        "More pythonic way"
      ]
    },
    {
      "cell_type": "code",
      "execution_count": null,
      "metadata": {
        "id": "cCNqXSepxEiF"
      },
      "outputs": [],
      "source": [
        "\"Sebastian\" in G"
      ]
    },
    {
      "cell_type": "markdown",
      "metadata": {
        "collapsed": false,
        "id": "PPtHWapixEiF"
      },
      "source": [
        "For edges, you must use has_edge (no syntax like `edge in G`)"
      ]
    },
    {
      "cell_type": "code",
      "execution_count": null,
      "metadata": {
        "id": "r4zhzqjhxEiF"
      },
      "outputs": [],
      "source": [
        "print(G.has_edge(3, 4))\n",
        "print(G.has_edge(\"Louis\", 0))"
      ]
    },
    {
      "cell_type": "markdown",
      "metadata": {
        "collapsed": false,
        "id": "G_nhzo4cxEiF"
      },
      "source": [
        "### Finding neighbors of a node"
      ]
    },
    {
      "cell_type": "code",
      "execution_count": null,
      "metadata": {
        "id": "QwjwkggZxEiF"
      },
      "outputs": [],
      "source": [
        "list(G.neighbors(1))"
      ]
    },
    {
      "cell_type": "markdown",
      "metadata": {
        "collapsed": false,
        "id": "u7A7N8PoxEiG"
      },
      "source": [
        "* In `DiGraph` objects, `G.neighbors(node)` gives the successors of `node`, as does `G.successors(node)`  \n",
        "* Predecessors of `node` can be obtained with `G.predecessors(node)`"
      ]
    },
    {
      "cell_type": "markdown",
      "metadata": {
        "collapsed": false,
        "id": "AoIzK2jQxEiG"
      },
      "source": [
        "###Iterating over nodes and edges\n",
        "Nodes and edges can be iterated over with `G.nodes()` and `G.edges()` respectively  "
      ]
    },
    {
      "cell_type": "code",
      "execution_count": null,
      "metadata": {
        "id": "h5QlDVMAxEiG"
      },
      "outputs": [],
      "source": [
        "for node, data in G.nodes(data=True): # data=True includes node attributes as dictionaries\n",
        "    print(\"Node {0}\\t\\t\\t: {1}\".format(node, data))"
      ]
    },
    {
      "cell_type": "code",
      "execution_count": null,
      "metadata": {
        "id": "70Hf4BPMxEiG"
      },
      "outputs": [],
      "source": [
        "for n1, n2, data in G.edges(data=True):\n",
        "    print(\"{0} <----> {1}: {2}\".format(n1, n2, data))"
      ]
    },
    {
      "cell_type": "markdown",
      "metadata": {
        "collapsed": false,
        "id": "CGznMkKhxEiG"
      },
      "source": [
        "### Calculating degrees"
      ]
    },
    {
      "cell_type": "code",
      "execution_count": null,
      "metadata": {
        "id": "wWq3VoFXxEiG"
      },
      "outputs": [],
      "source": [
        "# one node\n",
        "print(G.degree(\"Louis\")) # returns an integer\n",
        "\n",
        "# all nodes (returns a dictionary with node : degree pairs for all nodes)\n",
        "print(G.degree())\n",
        "\n",
        "# just the degree sequence\n",
        "print([G.degree(node) for node in G])"
      ]
    },
    {
      "cell_type": "markdown",
      "metadata": {
        "collapsed": false,
        "id": "O9TEw9hvxEiG"
      },
      "source": [
        "As you know, in directed graphs (of class `DiGraph`) there are two types of degree. Things work just as you expect\n",
        "* `G.in_degree(node) `\n",
        "* `G.out_degree(node) # same as G.degree()`\n"
      ]
    },
    {
      "cell_type": "markdown",
      "metadata": {
        "collapsed": false,
        "id": "2d82n2PRxEiG"
      },
      "source": [
        "#Other operations"
      ]
    },
    {
      "cell_type": "markdown",
      "metadata": {
        "collapsed": false,
        "id": "coqHnGVxxEiH"
      },
      "source": [
        "* ***`subgraph(G, nbunch)` or `G.subgraph(nbunch)`***       \n",
        "subgraph of G induced by nodes in nbunch    \n",
        "\n",
        "* ***`reverse(G)`***       \n",
        "DiGraph with edges reversed\n",
        "\n",
        "* ***`union(G1, G2)`***      \n",
        "graph union    \n",
        "\n",
        "* ***`disjoint_union(G1, G2)`***     \n",
        "same, but treats nodes of G1, G2 as different\n",
        "\n",
        "* ***`intersection(G1, G2)`***      \n",
        "graph with only the edges in common between G1, G2\n",
        "\n",
        "* ***`difference(G1, G2)`***      \n",
        "graph with only the edges G1 that aren't in G2\n",
        "\n",
        "* ***`copy(G)` or `G.copy()`***     \n",
        "copy of G\n",
        "\n",
        "* ***`complement(G)` or `G.complement()`***     \n",
        "the complement graph of G\n",
        "\n",
        "* ***`convert_to_undirected(G)` or `G.to_undirected()`***     \n",
        "undirected version of G (a Graph or MultiGraph)  \n",
        "\n",
        "* ***`convert_to_directed(G)` or `G.to_directed()`***      \n",
        "directed version of G (a DiGraph of MultiDiGraph)\n",
        "\n",
        "* ***`adjacency_matrix(G)`***      \n",
        "adjacency matrix A of G (in sparse matrix format; to get full matrix, use A.toarray() )"
      ]
    },
    {
      "cell_type": "markdown",
      "metadata": {
        "collapsed": false,
        "id": "9Db39lmxxEiH"
      },
      "source": [
        "# Graph I/O\n",
        "\n",
        "Usually you will not be building a network from scratch one node/link at a time. Instead, you will\n",
        "want to read it in from an appropriate data file. NetworkX can understand the following common graph\n",
        "formats:"
      ]
    },
    {
      "cell_type": "markdown",
      "metadata": {
        "collapsed": false,
        "id": "x3JfTF97xEiH"
      },
      "source": [
        "* edge lists\n",
        "* adjacency lists\n",
        "* GML\n",
        "* GEXF\n",
        "* Python 'pickle'\n",
        "* GraphML\n",
        "* Pajek\n",
        "* LEDA\n",
        "* YAML"
      ]
    },
    {
      "cell_type": "markdown",
      "metadata": {
        "collapsed": true,
        "id": "ngi6hDLLxEiH"
      },
      "source": [
        "# Getting started: reading in an edge list\n",
        "Put the file `test.txt` from .zip data file into your working directory for IPython  \n",
        "If you don't know the present working directory, you can get it by typing  \n",
        "\n",
        "`%pwd`\n",
        "\n",
        "in any cell"
      ]
    },
    {
      "cell_type": "markdown",
      "metadata": {
        "collapsed": false,
        "id": "lsJf105nxEiH"
      },
      "source": [
        "Read in the file with the following options\n",
        "* lines starting with `#` are treated as comments and ignored  \n",
        "* use a `Graph` object to hold the data (i.e., network is undirected)  \n",
        "* data are separated by whitespace (' ')\n",
        "* nodes should be treated as integers (`int`)\n",
        "* encoding of the text file containing the edge list is utf-8"
      ]
    },
    {
      "cell_type": "code",
      "execution_count": null,
      "metadata": {
        "id": "BBki_levxEiH"
      },
      "outputs": [],
      "source": [
        "# read in an edge list from the file 'test.txt'\n",
        "G = nx.read_edgelist('./test.txt', comments='#',\n",
        "                     create_using=nx.Graph(),\n",
        "                     delimiter=' ',\n",
        "                     nodetype=int,\n",
        "                     encoding='utf-8')"
      ]
    },
    {
      "cell_type": "markdown",
      "metadata": {
        "collapsed": false,
        "id": "BNsq31pexEiH"
      },
      "source": [
        "### Allowed formats\n",
        "* Node pairs with no data  \n",
        "`1 2`\n",
        "* Node pairs with python dictionary  \n",
        "`1 2 {weight:7, color:\"green\"}`"
      ]
    },
    {
      "cell_type": "markdown",
      "metadata": {
        "collapsed": false,
        "id": "sIKNK4qoxEiH"
      },
      "source": [
        "# Basic analysis\n",
        "A large number of basic analyses can be done in one line using NetworkX + numpy or builtin python functions like `min`, `max`, etc."
      ]
    },
    {
      "cell_type": "code",
      "execution_count": null,
      "metadata": {
        "id": "fJVPe9wVxEiH"
      },
      "outputs": [],
      "source": [
        "N = len(G)\n",
        "L = G.size()\n",
        "degrees = [G.degree(node) for node in G]\n",
        "kmin = min(degrees)\n",
        "kmax = max(degrees)"
      ]
    },
    {
      "cell_type": "code",
      "execution_count": null,
      "metadata": {
        "id": "tbVSWJsAxEiH"
      },
      "outputs": [],
      "source": [
        "print(\"Number of nodes: \", N)\n",
        "print(\"Number of edges: \", L)\n",
        "print()\n",
        "print(\"Average degree: \", 2*L/N)\n",
        "print(\"Average degree (alternate calculation)\", np.mean(degrees))\n",
        "print()\n",
        "print(\"Minimum degree: \", kmin)\n",
        "print(\"Maximum degree: \", kmax)"
      ]
    },
    {
      "cell_type": "markdown",
      "metadata": {
        "collapsed": false,
        "id": "0umDj4-exEiI"
      },
      "source": [
        "# Drawing the network\n",
        "* NetworkX can draw networks using a large number of layout algorithms  \n",
        "* The results are not as pretty as Gephi, but NetworkX is better for a quick 'n dirty visualization and\n",
        "gives you finer-grained control over the layout."
      ]
    },
    {
      "cell_type": "code",
      "execution_count": null,
      "metadata": {
        "id": "kyoQpYHExEiI"
      },
      "outputs": [],
      "source": [
        "# using the force-based or \"spring\" layout algorithm\n",
        "fig = plt.figure(figsize=(8,8))\n",
        "nx.draw_spring(G, node_size=40)"
      ]
    }
  ],
  "metadata": {
    "celltoolbar": "Slideshow",
    "kernelspec": {
      "display_name": "Python 3 (system-wide)",
      "language": "python",
      "metadata": {
        "cocalc": {
          "description": "Python 3 programming language",
          "priority": 100,
          "url": "https://www.python.org/"
        }
      },
      "name": "python3"
    },
    "language_info": {
      "codemirror_mode": {
        "name": "ipython",
        "version": 3
      },
      "file_extension": ".py",
      "mimetype": "text/x-python",
      "name": "python",
      "nbconvert_exporter": "python",
      "pygments_lexer": "ipython3",
      "version": "3.6.9"
    },
    "colab": {
      "provenance": []
    }
  },
  "nbformat": 4,
  "nbformat_minor": 0
}